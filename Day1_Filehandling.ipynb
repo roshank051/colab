{
  "nbformat": 4,
  "nbformat_minor": 0,
  "metadata": {
    "colab": {
      "provenance": []
    },
    "kernelspec": {
      "name": "python3",
      "display_name": "Python 3"
    },
    "language_info": {
      "name": "python"
    }
  },
  "cells": [
    {
      "cell_type": "code",
      "execution_count": 2,
      "metadata": {
        "id": "2e8MQAkenGOv",
        "colab": {
          "base_uri": "https://localhost:8080/"
        },
        "outputId": "f4fd64f6-94aa-42c8-946c-5b96e22c4132"
      },
      "outputs": [
        {
          "output_type": "stream",
          "name": "stdout",
          "text": [
            "Enter a number : 12\n",
            "144\n"
          ]
        }
      ],
      "source": [
        "#With args without return value\n",
        "def square(x):\n",
        "  y=x**2\n",
        "  print(y)\n",
        "\n",
        "x=int(input(\"Enter a number : \"))\n",
        "square(x)\n",
        "\n",
        ""
      ]
    }
  ]
}